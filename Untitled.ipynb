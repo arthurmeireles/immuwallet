{
 "cells": [
  {
   "cell_type": "code",
   "execution_count": 9,
   "metadata": {},
   "outputs": [],
   "source": [
    "# https://stackoverflow.com/a/59774008/6728529\n",
    "import os\n",
    "os.environ[\"DJANGO_ALLOW_ASYNC_UNSAFE\"] = \"true\"\n",
    "\n",
    "from dashboard.models import Usuario, Perfil, HorarioFuncionamento, Estabelecimento, Estado, Municipio\n",
    "from dashboard.models import Vacina, VacinaEstocada, VacinaAplicada\n",
    "from django.utils.translation import ugettext_lazy as _"
   ]
  },
  {
   "cell_type": "code",
   "execution_count": 16,
   "metadata": {},
   "outputs": [],
   "source": [
    "estado = Estado(nome=\"Estado\", sigla=\"SGL\", regiao=\"R\")\n",
    "estado.save()"
   ]
  },
  {
   "cell_type": "code",
   "execution_count": 18,
   "metadata": {},
   "outputs": [],
   "source": [
    "municipio = Municipio(ibge=\"ibge\", nome=\"Municipio\", estado=estado)\n",
    "municipio.save()"
   ]
  },
  {
   "cell_type": "code",
   "execution_count": 20,
   "metadata": {},
   "outputs": [],
   "source": [
    "estabelecimento = Estabelecimento(cnes=\"123\", nome=\"Estabelecimento\", endereco=\"Rua\", municipio=municipio)\n",
    "estabelecimento.save()"
   ]
  },
  {
   "cell_type": "code",
   "execution_count": 2,
   "metadata": {},
   "outputs": [
    {
     "data": {
      "text/plain": [
       "<Usuario: admin>"
      ]
     },
     "execution_count": 2,
     "metadata": {},
     "output_type": "execute_result"
    }
   ],
   "source": [
    "admin = Usuario.objects.first()\n",
    "admin"
   ]
  },
  {
   "cell_type": "code",
   "execution_count": 21,
   "metadata": {},
   "outputs": [],
   "source": [
    "perfil = Perfil(usuario=admin, estabelecimento=estabelecimento, tipo=1)\n",
    "perfil.save()"
   ]
  },
  {
   "cell_type": "code",
   "execution_count": 8,
   "metadata": {},
   "outputs": [
    {
     "data": {
      "text/plain": [
       "'Coordenador do SUS'"
      ]
     },
     "execution_count": 8,
     "metadata": {},
     "output_type": "execute_result"
    }
   ],
   "source": [
    "admin.perfil.get_tipo_display()"
   ]
  },
  {
   "cell_type": "code",
   "execution_count": 10,
   "metadata": {},
   "outputs": [],
   "source": [
    "vacinas = [\n",
    "    {\"codigo\": \"cov19z\", \"nome\": \"Vacina COVID19 AstraZeneca\"},\n",
    "    {\"codigo\": \"cov19pf\", \"nome\": \"Vacina COVID19 Pfizer\"},\n",
    "]\n",
    "for vacina in vacinas:\n",
    "    Vacina(**vacina).save()"
   ]
  },
  {
   "cell_type": "code",
   "execution_count": 11,
   "metadata": {},
   "outputs": [
    {
     "data": {
      "text/plain": [
       "<QuerySet [<Vacina: Vacina object (cov19z)>, <Vacina: Vacina object (cov19pf)>]>"
      ]
     },
     "execution_count": 11,
     "metadata": {},
     "output_type": "execute_result"
    }
   ],
   "source": [
    "Vacina.objects.all()"
   ]
  },
  {
   "cell_type": "code",
   "execution_count": 12,
   "metadata": {},
   "outputs": [],
   "source": [
    "from localflavor.br.forms import BRCPFField\n"
   ]
  },
  {
   "cell_type": "code",
   "execution_count": null,
   "metadata": {},
   "outputs": [],
   "source": []
  }
 ],
 "metadata": {
  "kernelspec": {
   "display_name": "Django Shell-Plus",
   "language": "python",
   "name": "django_extensions"
  },
  "language_info": {
   "codemirror_mode": {
    "name": "ipython",
    "version": 3
   },
   "file_extension": ".py",
   "mimetype": "text/x-python",
   "name": "python",
   "nbconvert_exporter": "python",
   "pygments_lexer": "ipython3",
   "version": "3.8.5"
  }
 },
 "nbformat": 4,
 "nbformat_minor": 4
}
