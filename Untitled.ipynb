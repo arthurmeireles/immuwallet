{
 "cells": [
  {
   "cell_type": "code",
   "execution_count": 28,
   "metadata": {},
   "outputs": [],
   "source": [
    "# https://stackoverflow.com/a/59774008/6728529\n",
    "import os\n",
    "os.environ[\"DJANGO_ALLOW_ASYNC_UNSAFE\"] = \"true\"\n",
    "\n",
    "from dashboard.models import Usuario, Perfil, HoraMarcada, HorarioFuncionamento, Estabelecimento, Estado, Municipio\n",
    "from dashboard.models import Vacina, VacinaEstocada, VacinaAplicada\n",
    "from django.utils.translation import ugettext_lazy as _\n",
    "from redis import Redis\n",
    "from django.conf import settings\n",
    "from datetime import timedelta"
   ]
  },
  {
   "cell_type": "code",
   "execution_count": 2,
   "metadata": {},
   "outputs": [],
   "source": [
    "# estado = Estado(nome=\"Estado\", sigla=\"SGL\", regiao=\"R\")\n",
    "# estado.save()\n",
    "estado = Estado.objects.first()"
   ]
  },
  {
   "cell_type": "code",
   "execution_count": 3,
   "metadata": {},
   "outputs": [],
   "source": [
    "# municipio = Municipio(ibge=\"ibge\", nome=\"Municipio\", estado=estado)\n",
    "# municipio.save()\n",
    "municipio = Municipio.objects.first()"
   ]
  },
  {
   "cell_type": "code",
   "execution_count": 4,
   "metadata": {},
   "outputs": [],
   "source": [
    "estabelecimento = Estabelecimento(cnes=\"124\", nome=\"Estabele\", endereco=\"Rua\", municipio=municipio)\n",
    "estabelecimento.save()"
   ]
  },
  {
   "cell_type": "code",
   "execution_count": 5,
   "metadata": {},
   "outputs": [
    {
     "data": {
      "text/plain": [
       "<Usuario: admin>"
      ]
     },
     "execution_count": 5,
     "metadata": {},
     "output_type": "execute_result"
    }
   ],
   "source": [
    "admin = Usuario.objects.first()\n",
    "admin"
   ]
  },
  {
   "cell_type": "code",
   "execution_count": 6,
   "metadata": {},
   "outputs": [],
   "source": [
    "# perfil = Perfil(usuario=admin, estabelecimento=estabelecimento, tipo=1)\n",
    "# perfil.save()"
   ]
  },
  {
   "cell_type": "code",
   "execution_count": 7,
   "metadata": {},
   "outputs": [
    {
     "data": {
      "text/plain": [
       "'Coordenador do SUS'"
      ]
     },
     "execution_count": 7,
     "metadata": {},
     "output_type": "execute_result"
    }
   ],
   "source": [
    "admin.perfil.get_tipo_display()"
   ]
  },
  {
   "cell_type": "code",
   "execution_count": 8,
   "metadata": {},
   "outputs": [],
   "source": [
    "vacinas = [\n",
    "    {\"codigo\": \"cov19z\", \"nome\": \"Vacina COVID19 AstraZeneca\"},\n",
    "    {\"codigo\": \"cov19pf\", \"nome\": \"Vacina COVID19 Pfizer\"},\n",
    "]\n",
    "# for vacina in vacinas:\n",
    "#     Vacina(**vacina).save()"
   ]
  },
  {
   "cell_type": "code",
   "execution_count": 9,
   "metadata": {},
   "outputs": [
    {
     "data": {
      "text/plain": [
       "<QuerySet [<Vacina: Vacina COVID19 AstraZeneca (cov19z)>, <Vacina: Vacina COVID19 Pfizer (cov19pf)>]>"
      ]
     },
     "execution_count": 9,
     "metadata": {},
     "output_type": "execute_result"
    }
   ],
   "source": [
    "Vacina.objects.all()"
   ]
  },
  {
   "cell_type": "code",
   "execution_count": 10,
   "metadata": {},
   "outputs": [
    {
     "data": {
      "text/plain": [
       "Redis<ConnectionPool<Connection<host=localhost,port=6379,db=0>>>"
      ]
     },
     "execution_count": 10,
     "metadata": {},
     "output_type": "execute_result"
    }
   ],
   "source": [
    "redis = Redis(host=settings.REDIS_HOST, port=settings.REDIS_PORT, db=0, decode_responses=True)\n",
    "redis"
   ]
  },
  {
   "cell_type": "code",
   "execution_count": 11,
   "metadata": {},
   "outputs": [
    {
     "data": {
      "text/plain": [
       "'123'"
      ]
     },
     "execution_count": 11,
     "metadata": {},
     "output_type": "execute_result"
    }
   ],
   "source": [
    "HoraMarcada.objects.first().estabelecimento.cnes"
   ]
  },
  {
   "cell_type": "code",
   "execution_count": 32,
   "metadata": {},
   "outputs": [],
   "source": [
    "from dateutil.parser import parse\n",
    "data_string = '19/12/2020 14:22'\n",
    "data = parse(data_string)\n",
    "vacina = Vacina.objects.first()"
   ]
  },
  {
   "cell_type": "code",
   "execution_count": 35,
   "metadata": {},
   "outputs": [],
   "source": [
    "achou_horario = False\n",
    "for horario in estabelecimento.horariofuncionamento_set.filter(data__date=data.date()):\n",
    "    if horario.hora_abre <= data.time() and horario.hora_fecha >= data.time() + timedelta(minutes=vacina.tempo_aplicacao):\n",
    "        achou_horario = True\n",
    "        break\n",
    "\n",
    "if not achou_horario:\n",
    "    for horario in estabelecimento.horariofuncionamento_set.filter(dia_semana=data.weekday()):\n",
    "        if horario.hora_abre <= data.time() and horario.hora_fecha >= (data + timedelta(minutes=vacina.tempo_aplicacao)).time():\n",
    "            achou_horario = True\n",
    "            break\n",
    "            \n",
    "if not achou_horario:\n",
    "    raise Exception('Fora do horário de atendimento.')\n",
    "    \n"
   ]
  },
  {
   "cell_type": "code",
   "execution_count": 30,
   "metadata": {},
   "outputs": [
    {
     "data": {
      "text/plain": [
       "<Estabelecimento: (124) Estabele>"
      ]
     },
     "execution_count": 30,
     "metadata": {},
     "output_type": "execute_result"
    }
   ],
   "source": [
    "estabelecimento"
   ]
  },
  {
   "cell_type": "code",
   "execution_count": 24,
   "metadata": {},
   "outputs": [
    {
     "data": {
      "text/plain": [
       "<HorarioFuncionamento: Sexta das 01:35:00 às 23:00:00>"
      ]
     },
     "execution_count": 24,
     "metadata": {},
     "output_type": "execute_result"
    }
   ],
   "source": [
    "estabelecimento.horariofuncionamento_set.filter()[0]"
   ]
  },
  {
   "cell_type": "code",
   "execution_count": 26,
   "metadata": {},
   "outputs": [
    {
     "data": {
      "text/plain": [
       "datetime.time(14, 22)"
      ]
     },
     "execution_count": 26,
     "metadata": {},
     "output_type": "execute_result"
    }
   ],
   "source": [
    "data.time()"
   ]
  },
  {
   "cell_type": "code",
   "execution_count": 27,
   "metadata": {},
   "outputs": [],
   "source": []
  },
  {
   "cell_type": "code",
   "execution_count": null,
   "metadata": {},
   "outputs": [],
   "source": []
  }
 ],
 "metadata": {
  "kernelspec": {
   "display_name": "Django Shell-Plus",
   "language": "python",
   "name": "django_extensions"
  },
  "language_info": {
   "codemirror_mode": {
    "name": "ipython",
    "version": 3
   },
   "file_extension": ".py",
   "mimetype": "text/x-python",
   "name": "python",
   "nbconvert_exporter": "python",
   "pygments_lexer": "ipython3",
   "version": "3.8.5"
  }
 },
 "nbformat": 4,
 "nbformat_minor": 4
}
