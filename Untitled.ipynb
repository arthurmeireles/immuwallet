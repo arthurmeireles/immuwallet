{
 "cells": [
  {
   "cell_type": "code",
   "execution_count": 43,
   "metadata": {},
   "outputs": [],
   "source": [
    "# https://stackoverflow.com/a/59774008/6728529\n",
    "import os\n",
    "os.environ[\"DJANGO_ALLOW_ASYNC_UNSAFE\"] = \"true\"\n",
    "\n",
    "from dashboard.models import Usuario, Perfil, HoraMarcada, HorarioFuncionamento, Estabelecimento, Estado, Municipio\n",
    "from dashboard.models import Vacina, VacinaEstocada, VacinaAplicada\n",
    "from django.utils.translation import ugettext_lazy as _\n",
    "from redis import Redis\n",
    "from django.conf import settings\n",
    "from datetime import timedelta"
   ]
  },
  {
   "cell_type": "code",
   "execution_count": 44,
   "metadata": {},
   "outputs": [
    {
     "data": {
      "text/plain": [
       "False"
      ]
     },
     "execution_count": 44,
     "metadata": {},
     "output_type": "execute_result"
    }
   ],
   "source": [
    "os.environ['DEBUG'] == True"
   ]
  },
  {
   "cell_type": "code",
   "execution_count": 45,
   "metadata": {},
   "outputs": [],
   "source": [
    "# estado = Estado(nome=\"Estado\", sigla=\"SGL\", regiao=\"R\")\n",
    "# estado.save()\n",
    "estado = Estado.objects.first()"
   ]
  },
  {
   "cell_type": "code",
   "execution_count": 46,
   "metadata": {},
   "outputs": [],
   "source": [
    "# municipio = Municipio(ibge=\"ibge\", nome=\"Municipio\", estado=estado)\n",
    "# municipio.save()\n",
    "municipio = Municipio.objects.first()"
   ]
  },
  {
   "cell_type": "code",
   "execution_count": 4,
   "metadata": {},
   "outputs": [],
   "source": [
    "estabelecimento = Estabelecimento(cnes=\"124\", nome=\"Estabele\", endereco=\"Rua\", municipio=municipio)\n",
    "estabelecimento.save()"
   ]
  },
  {
   "cell_type": "code",
   "execution_count": 5,
   "metadata": {},
   "outputs": [
    {
     "data": {
      "text/plain": [
       "<Usuario: admin>"
      ]
     },
     "execution_count": 5,
     "metadata": {},
     "output_type": "execute_result"
    }
   ],
   "source": [
    "admin = Usuario.objects.first()\n",
    "admin"
   ]
  },
  {
   "cell_type": "code",
   "execution_count": 6,
   "metadata": {},
   "outputs": [],
   "source": [
    "# perfil = Perfil(usuario=admin, estabelecimento=estabelecimento, tipo=1)\n",
    "# perfil.save()"
   ]
  },
  {
   "cell_type": "code",
   "execution_count": 7,
   "metadata": {},
   "outputs": [
    {
     "data": {
      "text/plain": [
       "'Coordenador do SUS'"
      ]
     },
     "execution_count": 7,
     "metadata": {},
     "output_type": "execute_result"
    }
   ],
   "source": [
    "admin.perfil.get_tipo_display()"
   ]
  },
  {
   "cell_type": "code",
   "execution_count": 8,
   "metadata": {},
   "outputs": [],
   "source": [
    "vacinas = [\n",
    "    {\"codigo\": \"cov19z\", \"nome\": \"Vacina COVID19 AstraZeneca\"},\n",
    "    {\"codigo\": \"cov19pf\", \"nome\": \"Vacina COVID19 Pfizer\"},\n",
    "]\n",
    "# for vacina in vacinas:\n",
    "#     Vacina(**vacina).save()"
   ]
  },
  {
   "cell_type": "code",
   "execution_count": 9,
   "metadata": {},
   "outputs": [
    {
     "data": {
      "text/plain": [
       "<QuerySet [<Vacina: Vacina COVID19 AstraZeneca (cov19z)>, <Vacina: Vacina COVID19 Pfizer (cov19pf)>]>"
      ]
     },
     "execution_count": 9,
     "metadata": {},
     "output_type": "execute_result"
    }
   ],
   "source": [
    "Vacina.objects.all()"
   ]
  },
  {
   "cell_type": "code",
   "execution_count": 10,
   "metadata": {},
   "outputs": [
    {
     "data": {
      "text/plain": [
       "Redis<ConnectionPool<Connection<host=localhost,port=6379,db=0>>>"
      ]
     },
     "execution_count": 10,
     "metadata": {},
     "output_type": "execute_result"
    }
   ],
   "source": [
    "redis = Redis(host=settings.REDIS_HOST, port=settings.REDIS_PORT, db=0, decode_responses=True)\n",
    "redis"
   ]
  },
  {
   "cell_type": "code",
   "execution_count": 11,
   "metadata": {},
   "outputs": [
    {
     "data": {
      "text/plain": [
       "'123'"
      ]
     },
     "execution_count": 11,
     "metadata": {},
     "output_type": "execute_result"
    }
   ],
   "source": [
    "HoraMarcada.objects.first().estabelecimento.cnes"
   ]
  },
  {
   "cell_type": "code",
   "execution_count": 32,
   "metadata": {},
   "outputs": [],
   "source": [
    "from dateutil.parser import parse\n",
    "data_string = '19/12/2020 14:22'\n",
    "data = parse(data_string)\n",
    "vacina = Vacina.objects.first()"
   ]
  },
  {
   "cell_type": "code",
   "execution_count": 51,
   "metadata": {},
   "outputs": [
    {
     "data": {
      "text/plain": [
       "(2000,\n",
       " {'dashboard.HorarioFuncionamento': 0,\n",
       "  'dashboard.Perfil': 0,\n",
       "  'dashboard.VacinaEstocada': 0,\n",
       "  'dashboard.Estabelecimento': 2000})"
      ]
     },
     "execution_count": 51,
     "metadata": {},
     "output_type": "execute_result"
    }
   ],
   "source": [
    "Estabelecimento.objects.exclude(cnes__in=('123','124')).delete()"
   ]
  },
  {
   "cell_type": "code",
   "execution_count": null,
   "metadata": {},
   "outputs": [],
   "source": []
  }
 ],
 "metadata": {
  "kernelspec": {
   "display_name": "Django Shell-Plus",
   "language": "python",
   "name": "django_extensions"
  },
  "language_info": {
   "codemirror_mode": {
    "name": "ipython",
    "version": 3
   },
   "file_extension": ".py",
   "mimetype": "text/x-python",
   "name": "python",
   "nbconvert_exporter": "python",
   "pygments_lexer": "ipython3",
   "version": "3.8.5"
  }
 },
 "nbformat": 4,
 "nbformat_minor": 4
}
